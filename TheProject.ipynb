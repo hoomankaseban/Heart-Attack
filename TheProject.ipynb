{
 "cells": [
  {
   "cell_type": "markdown",
   "id": "5a5c9888",
   "metadata": {},
   "source": [
    "# Risk to Heart Attack\n",
    "## Author : HoomanKaseban ( Mr.Programmer)\n",
    "### In this project, we try to predict the risk of heart attack"
   ]
  },
  {
   "cell_type": "markdown",
   "id": "1164f5d2",
   "metadata": {},
   "source": [
    "## Import Libraries"
   ]
  },
  {
   "cell_type": "code",
   "execution_count": 3,
   "id": "3dbebc16",
   "metadata": {},
   "outputs": [],
   "source": [
    "import numpy as np\n",
    "import pandas as pd\n",
    "from sklearn import preprocessing as prp\n",
    "import matplotlib.pyplot as mpl\n",
    "%matplotlib inline"
   ]
  },
  {
   "cell_type": "markdown",
   "id": "779f0f53",
   "metadata": {},
   "source": [
    "## Read the Csv File"
   ]
  },
  {
   "cell_type": "markdown",
   "id": "67506e68",
   "metadata": {},
   "source": [
    "### This File Contains the information of  patients \n",
    "<ul>\n",
    "    <li><b>Age :</b>\n",
    "        <i style=\"color:red;font-family:arial;font-weight:bold\">Patient's age</i>\n",
    "    </li>\n",
    "    <li><b>Sex :</b>\n",
    "        <i style=\"color:red;font-family:arial;font-weight:bold\">Patient's gender</i>\n",
    "    </li>\n",
    "    <li><b>cp :</b>\n",
    "        <i style=\"color:red;font-family:arial;font-weight:bold\">Type of chest pain</i>\n",
    "        <i style=\"color:blue;font-family:arial;font-weight:bold;font-size:9pt\">\n",
    "            <br >\n",
    "            <q style=\"color:black;font-weight:bold\">1</q>direct heart pain\n",
    "            <br >\n",
    "            <q style=\"color:black;font-weight:bold\">2</q>Indirect pain that causes pain in the heart\n",
    "            <br >\n",
    "            <q style=\"color:black;font-weight:bold\">3</q>non-cardiac pain\n",
    "            <br >\n",
    "            <q style=\"color:black;font-weight:bold\">4</q>No symptoms</i>\n",
    "    </li>  \n",
    "    <li><b>trtbps :</b>\n",
    "        <i style=\"color:red;font-family:arial;font-weight:bold\">Resting blood pressure</i>\n",
    "    </li>    \n",
    "    <li><b>chol :</b>\n",
    "        <i style=\"color:red;font-family:arial;font-weight:bold\">Cholesterol</i>\n",
    "    </li>\n",
    "    <li><b>fbs :</b>\n",
    "        <i style=\"color:red;font-family:arial;font-weight:bold\">High fasting blood sugar - diabetes</i>\n",
    "        <i style=\"color:blue;font-family:timesnewroman;font-weight:bold\">1,mean\"Yes,Has it!\". 0,mean's \"No,Hasn't it!\"</i>\n",
    "    </li>\n",
    "    <li><b>rest_ecg :</b>\n",
    "        <i style=\"color:red;font-family:arial;font-weight:bold\">Type of chest pain</i>\n",
    "        <i style=\"color:blue;font-family:arial;font-weight:bold;font-size:9pt\">\n",
    "            <br >\n",
    "            <q style=\"color:black;font-weight:bold\">0</q>normal\n",
    "            <br >\n",
    "            <q style=\"color:black;font-weight:bold\">1</q>the ST segment of the ECG is abnormal\n",
    "            <br >\n",
    "            <q style=\"color:black;font-weight:bold\">2</q>Probably or definitely the left ventricle is large</i>\n",
    "    </li>\n",
    "    <li><b>thalach :</b>\n",
    "        <i style=\"color:red;font-family:arial;font-weight:bold\">Maximum heart rate</i>\n",
    "    </li>\n",
    "    <li><b>exng :</b>\n",
    "        <i style=\"color:red;font-family:arial;font-weight:bold\">Does the pain start with a specific activity?</i>\n",
    "        <i style=\"color:blue;font-family:timesnewroman;font-weight:bold\">1,mean\"Yes\". 0,mean's \"No\"</i>\n",
    "    </li>\n",
    "    <li><b>oldpeak :</b>\n",
    "        <i style=\"color:red;font-family:arial;font-weight:bold\">ST depression induced by exercise relative to rest</i>\n",
    "    </li>\n",
    "    <li><b>slp :</b>\n",
    "        <i style=\"color:red;font-family:arial;font-weight:bold\">the slope of the peak exercise ST segment</i>\n",
    "    </li>\n",
    "    <li><b>caa :</b>\n",
    "        <i style=\"color:red;font-family:arial;font-weight:bold\">A value from 0 to 3</i>\n",
    "    </li>\n",
    "    <li><b>thall :</b>\n",
    "        <i style=\"color:red;font-family:arial;font-weight:bold\">A blood disorder called thalassemia</i>\n",
    "        <i style=\"color:blue;font-family:arial;font-weight:bold;font-size:9pt\">\n",
    "            <br >\n",
    "            <q style=\"color:black;font-weight:bold\">0</q>will be clear of dataset\n",
    "            <br >\n",
    "            <q style=\"color:black;font-weight:bold\">1</q>fixed defect (no blood flow in some part of the heart)\n",
    "            <br >\n",
    "            <q style=\"color:black;font-weight:bold\">2</q>normal blood flow\n",
    "            <br >\n",
    "            <q style=\"color:black;font-weight:bold\">3</q>reversible defect (a blood flow is observed but it is not normal)</i>\n",
    "    </li>\n",
    "    <li><b>output :</b>\n",
    "        <i style=\"color:red;font-family:arial;font-weight:bold\">Risk to HeartAttack</i>\n",
    "        <i style=\"color:blue;font-family:timesnewroman;font-weight:bold\">1,mean\"Yes,High Risk!\". 0,mean's \"No,Low Risk!\"</i>\n",
    "    </li>\n",
    "</ul>"
   ]
  },
  {
   "cell_type": "code",
   "execution_count": 20,
   "id": "13e9bf9c",
   "metadata": {},
   "outputs": [
    {
     "data": {
      "text/html": [
       "<div>\n",
       "<style scoped>\n",
       "    .dataframe tbody tr th:only-of-type {\n",
       "        vertical-align: middle;\n",
       "    }\n",
       "\n",
       "    .dataframe tbody tr th {\n",
       "        vertical-align: top;\n",
       "    }\n",
       "\n",
       "    .dataframe thead th {\n",
       "        text-align: right;\n",
       "    }\n",
       "</style>\n",
       "<table border=\"1\" class=\"dataframe\">\n",
       "  <thead>\n",
       "    <tr style=\"text-align: right;\">\n",
       "      <th></th>\n",
       "      <th>age</th>\n",
       "      <th>sex</th>\n",
       "      <th>cp</th>\n",
       "      <th>trtbps</th>\n",
       "      <th>chol</th>\n",
       "      <th>fbs</th>\n",
       "      <th>restecg</th>\n",
       "      <th>thalachh</th>\n",
       "      <th>exng</th>\n",
       "      <th>oldpeak</th>\n",
       "      <th>slp</th>\n",
       "      <th>caa</th>\n",
       "      <th>thall</th>\n",
       "      <th>output</th>\n",
       "    </tr>\n",
       "  </thead>\n",
       "  <tbody>\n",
       "    <tr>\n",
       "      <th>0</th>\n",
       "      <td>63</td>\n",
       "      <td>1</td>\n",
       "      <td>3</td>\n",
       "      <td>145</td>\n",
       "      <td>233</td>\n",
       "      <td>1</td>\n",
       "      <td>0</td>\n",
       "      <td>150</td>\n",
       "      <td>0</td>\n",
       "      <td>2.3</td>\n",
       "      <td>0</td>\n",
       "      <td>0</td>\n",
       "      <td>1</td>\n",
       "      <td>1</td>\n",
       "    </tr>\n",
       "    <tr>\n",
       "      <th>1</th>\n",
       "      <td>37</td>\n",
       "      <td>1</td>\n",
       "      <td>2</td>\n",
       "      <td>130</td>\n",
       "      <td>250</td>\n",
       "      <td>0</td>\n",
       "      <td>1</td>\n",
       "      <td>187</td>\n",
       "      <td>0</td>\n",
       "      <td>3.5</td>\n",
       "      <td>0</td>\n",
       "      <td>0</td>\n",
       "      <td>2</td>\n",
       "      <td>1</td>\n",
       "    </tr>\n",
       "    <tr>\n",
       "      <th>2</th>\n",
       "      <td>41</td>\n",
       "      <td>0</td>\n",
       "      <td>1</td>\n",
       "      <td>130</td>\n",
       "      <td>204</td>\n",
       "      <td>0</td>\n",
       "      <td>0</td>\n",
       "      <td>172</td>\n",
       "      <td>0</td>\n",
       "      <td>1.4</td>\n",
       "      <td>2</td>\n",
       "      <td>0</td>\n",
       "      <td>2</td>\n",
       "      <td>1</td>\n",
       "    </tr>\n",
       "    <tr>\n",
       "      <th>3</th>\n",
       "      <td>56</td>\n",
       "      <td>1</td>\n",
       "      <td>1</td>\n",
       "      <td>120</td>\n",
       "      <td>236</td>\n",
       "      <td>0</td>\n",
       "      <td>1</td>\n",
       "      <td>178</td>\n",
       "      <td>0</td>\n",
       "      <td>0.8</td>\n",
       "      <td>2</td>\n",
       "      <td>0</td>\n",
       "      <td>2</td>\n",
       "      <td>1</td>\n",
       "    </tr>\n",
       "    <tr>\n",
       "      <th>4</th>\n",
       "      <td>57</td>\n",
       "      <td>0</td>\n",
       "      <td>0</td>\n",
       "      <td>120</td>\n",
       "      <td>354</td>\n",
       "      <td>0</td>\n",
       "      <td>1</td>\n",
       "      <td>163</td>\n",
       "      <td>1</td>\n",
       "      <td>0.6</td>\n",
       "      <td>2</td>\n",
       "      <td>0</td>\n",
       "      <td>2</td>\n",
       "      <td>1</td>\n",
       "    </tr>\n",
       "  </tbody>\n",
       "</table>\n",
       "</div>"
      ],
      "text/plain": [
       "   age  sex  cp  trtbps  chol  fbs  restecg  thalachh  exng  oldpeak  slp  \\\n",
       "0   63    1   3     145   233    1        0       150     0      2.3    0   \n",
       "1   37    1   2     130   250    0        1       187     0      3.5    0   \n",
       "2   41    0   1     130   204    0        0       172     0      1.4    2   \n",
       "3   56    1   1     120   236    0        1       178     0      0.8    2   \n",
       "4   57    0   0     120   354    0        1       163     1      0.6    2   \n",
       "\n",
       "   caa  thall  output  \n",
       "0    0      1       1  \n",
       "1    0      2       1  \n",
       "2    0      2       1  \n",
       "3    0      2       1  \n",
       "4    0      2       1  "
      ]
     },
     "execution_count": 20,
     "metadata": {},
     "output_type": "execute_result"
    }
   ],
   "source": [
    "#make data frame from csv file\n",
    "df=pd.read_csv('heart.csv')\n",
    "#show data frame\n",
    "df.head()"
   ]
  },
  {
   "cell_type": "markdown",
   "id": "9eb6fee6",
   "metadata": {},
   "source": [
    "## Get Some Info about Data"
   ]
  },
  {
   "cell_type": "code",
   "execution_count": 22,
   "id": "d4adc66a",
   "metadata": {},
   "outputs": [
    {
     "data": {
      "text/plain": [
       "(303, 14)"
      ]
     },
     "execution_count": 22,
     "metadata": {},
     "output_type": "execute_result"
    }
   ],
   "source": [
    "#find the number of cases\n",
    "df.shape"
   ]
  },
  {
   "cell_type": "code",
   "execution_count": 23,
   "id": "d9b5fed7",
   "metadata": {},
   "outputs": [
    {
     "data": {
      "text/plain": [
       "age           int64\n",
       "sex           int64\n",
       "cp            int64\n",
       "trtbps        int64\n",
       "chol          int64\n",
       "fbs           int64\n",
       "restecg       int64\n",
       "thalachh      int64\n",
       "exng          int64\n",
       "oldpeak     float64\n",
       "slp           int64\n",
       "caa           int64\n",
       "thall         int64\n",
       "output        int64\n",
       "dtype: object"
      ]
     },
     "execution_count": 23,
     "metadata": {},
     "output_type": "execute_result"
    }
   ],
   "source": [
    "#get some info about data types\n",
    "df.dtypes"
   ]
  },
  {
   "cell_type": "markdown",
   "id": "75207c9f",
   "metadata": {},
   "source": [
    "## Data Cleaning"
   ]
  },
  {
   "cell_type": "code",
   "execution_count": 24,
   "id": "4fb5cd3d",
   "metadata": {},
   "outputs": [],
   "source": [
    "#Deleting the Rows(cases) have NAN columns\n",
    "df.dropna(inplace=True)"
   ]
  },
  {
   "cell_type": "code",
   "execution_count": 25,
   "id": "67e75299",
   "metadata": {},
   "outputs": [
    {
     "data": {
      "text/plain": [
       "(303, 14)"
      ]
     },
     "execution_count": 25,
     "metadata": {},
     "output_type": "execute_result"
    }
   ],
   "source": [
    "#get number of rows(cases) after data cleaning\n",
    "df.shape"
   ]
  },
  {
   "cell_type": "code",
   "execution_count": 26,
   "id": "538f5adb",
   "metadata": {},
   "outputs": [
    {
     "data": {
      "text/plain": [
       "Index(['age', 'sex', 'cp', 'trtbps', 'chol', 'fbs', 'restecg', 'thalachh',\n",
       "       'exng', 'oldpeak', 'slp', 'caa', 'thall', 'output'],\n",
       "      dtype='object')"
      ]
     },
     "execution_count": 26,
     "metadata": {},
     "output_type": "execute_result"
    }
   ],
   "source": [
    "df.columns"
   ]
  },
  {
   "cell_type": "markdown",
   "id": "f30a8dfb",
   "metadata": {},
   "source": [
    "## Convert PandasDF's X and Y to Numpy Array for Using in Sklearn"
   ]
  },
  {
   "cell_type": "code",
   "execution_count": 28,
   "id": "bd1a9da8",
   "metadata": {},
   "outputs": [
    {
     "data": {
      "text/plain": [
       "array([[ 63. ,   1. ,   3. , 145. , 233. ,   1. ,   0. , 150. ,   0. ,\n",
       "          2.3,   0. ,   0. ,   1. ],\n",
       "       [ 37. ,   1. ,   2. , 130. , 250. ,   0. ,   1. , 187. ,   0. ,\n",
       "          3.5,   0. ,   0. ,   2. ],\n",
       "       [ 41. ,   0. ,   1. , 130. , 204. ,   0. ,   0. , 172. ,   0. ,\n",
       "          1.4,   2. ,   0. ,   2. ],\n",
       "       [ 56. ,   1. ,   1. , 120. , 236. ,   0. ,   1. , 178. ,   0. ,\n",
       "          0.8,   2. ,   0. ,   2. ],\n",
       "       [ 57. ,   0. ,   0. , 120. , 354. ,   0. ,   1. , 163. ,   1. ,\n",
       "          0.6,   2. ,   0. ,   2. ]])"
      ]
     },
     "execution_count": 28,
     "metadata": {},
     "output_type": "execute_result"
    }
   ],
   "source": [
    "#convert x data\n",
    "#we choose all data as 'x' except output\n",
    "x=np.asanyarray(df[['age', 'sex', 'cp', 'trtbps', 'chol', 'fbs', 'restecg', 'thalachh',\n",
    "       'exng', 'oldpeak', 'slp', 'caa', 'thall']]).astype(float)\n",
    "#show array\n",
    "x[:5]"
   ]
  },
  {
   "cell_type": "code",
   "execution_count": 29,
   "id": "17a35b06",
   "metadata": {},
   "outputs": [
    {
     "data": {
      "text/plain": [
       "array([1., 1., 1., 1., 1.])"
      ]
     },
     "execution_count": 29,
     "metadata": {},
     "output_type": "execute_result"
    }
   ],
   "source": [
    "#convert y data\n",
    "#we choose output as 'y'\n",
    "y=np.asanyarray(df['output']).astype(float)\n",
    "#show array\n",
    "y[:5]"
   ]
  },
  {
   "cell_type": "markdown",
   "id": "ee209075",
   "metadata": {},
   "source": [
    "## Normalaizing the X Data"
   ]
  },
  {
   "cell_type": "code",
   "execution_count": 30,
   "id": "ab06208b",
   "metadata": {},
   "outputs": [
    {
     "data": {
      "text/plain": [
       "array([[ 0.95,  0.68,  1.97,  0.76, -0.26,  2.39, -1.01,  0.02, -0.7 ,\n",
       "         1.09, -2.27, -0.71, -2.15],\n",
       "       [-1.92,  0.68,  1.  , -0.09,  0.07, -0.42,  0.9 ,  1.63, -0.7 ,\n",
       "         2.12, -2.27, -0.71, -0.51],\n",
       "       [-1.47, -1.47,  0.03, -0.09, -0.82, -0.42, -1.01,  0.98, -0.7 ,\n",
       "         0.31,  0.98, -0.71, -0.51],\n",
       "       [ 0.18,  0.68,  0.03, -0.66, -0.2 , -0.42,  0.9 ,  1.24, -0.7 ,\n",
       "        -0.21,  0.98, -0.71, -0.51],\n",
       "       [ 0.29, -1.47, -0.94, -0.66,  2.08, -0.42,  0.9 ,  0.58,  1.44,\n",
       "        -0.38,  0.98, -0.71, -0.51]])"
      ]
     },
     "execution_count": 30,
     "metadata": {},
     "output_type": "execute_result"
    }
   ],
   "source": [
    "#use standard scaler\n",
    "scaler=prp.StandardScaler().fit(x)\n",
    "x=scaler.transform(x)\n",
    "#show normalized array\n",
    "x[:5]"
   ]
  },
  {
   "cell_type": "markdown",
   "id": "5df27057",
   "metadata": {},
   "source": [
    "# Create Train-Test Spliter"
   ]
  },
  {
   "cell_type": "code",
   "execution_count": 32,
   "id": "f3b0fa87",
   "metadata": {},
   "outputs": [
    {
     "name": "stdout",
     "output_type": "stream",
     "text": [
      "(227, 13) (76, 13)\n"
     ]
    }
   ],
   "source": [
    "#use model selection \n",
    "from sklearn.model_selection import train_test_split as tts\n",
    "#splitting\n",
    "x_train,x_test,y_train,y_test=tts(x,y,train_size=.75,random_state=6)\n",
    "#print number of cases(arrays size)\n",
    "print(x_train.shape,x_test.shape)"
   ]
  },
  {
   "cell_type": "markdown",
   "id": "71b55c11",
   "metadata": {},
   "source": [
    "# Machine Learning\n",
    "# With LogisticRegression\n",
    "## Modeling"
   ]
  },
  {
   "cell_type": "code",
   "execution_count": 33,
   "id": "8479017d",
   "metadata": {},
   "outputs": [
    {
     "data": {
      "text/plain": [
       "LogisticRegression(C=0.01, solver='liblinear')"
      ]
     },
     "execution_count": 33,
     "metadata": {},
     "output_type": "execute_result"
    }
   ],
   "source": [
    "from sklearn.linear_model import LogisticRegression as lg\n",
    "#After several attempts with different values, I came to the conclusion that the best c is 0.1\n",
    "#The suitable solution for this project is Liblinear\n",
    "model=lg(C=0.01,solver='liblinear')\n",
    "#modeling\n",
    "model.fit(x_train,y_train)\n",
    "model"
   ]
  },
  {
   "cell_type": "markdown",
   "id": "1f1c60fd",
   "metadata": {},
   "source": [
    "## Predict Y and Y's probabilty"
   ]
  },
  {
   "cell_type": "code",
   "execution_count": 44,
   "id": "74d378d4",
   "metadata": {},
   "outputs": [
    {
     "name": "stdout",
     "output_type": "stream",
     "text": [
      "general predicted y :\n",
      "[0. 1. 1. 0. 0.]\n",
      "orginal y :\n",
      "[0. 1. 0. 0. 0.]\n",
      "the exact number of predicted y\n",
      "[[0.5  0.5 ]\n",
      " [0.42 0.58]\n",
      " [0.5  0.5 ]\n",
      " [0.76 0.24]\n",
      " [0.55 0.45]]\n"
     ]
    }
   ],
   "source": [
    "#predict 'y' from 'test data'\n",
    "y_hat=model.predict(x_test)\n",
    "#predict exact 'predicted y' from 'test data'\n",
    "y_hat_prob=model.predict_proba(x_test)\n",
    "#print general predict y vs orgingal y\n",
    "print('general predicted y :')\n",
    "print(y_hat[:5])\n",
    "print('orginal y :')\n",
    "print(y_test[:5])\n",
    "#print exact predicted y\n",
    "print('the exact number of predicted y')\n",
    "print(y_hat_prob[:5])"
   ]
  },
  {
   "cell_type": "markdown",
   "id": "947fa8b4",
   "metadata": {},
   "source": [
    "## Check The Accuracy Of Model"
   ]
  },
  {
   "cell_type": "code",
   "execution_count": 17,
   "id": "8aa84bb1",
   "metadata": {},
   "outputs": [
    {
     "name": "stdout",
     "output_type": "stream",
     "text": [
      "F1_Score is : 0.847059 \n",
      "Jaccard_Index is : 0.734694\n",
      "Log_Loss is :0.475047\n"
     ]
    }
   ],
   "source": [
    "#use f1-score,jaccard-index,log-loss for accuracy\n",
    "from sklearn.metrics import f1_score,jaccard_score,log_loss\n",
    "f1=f1_score(y_test,y_hat)\n",
    "jaccard=jaccard_score(y_test,y_hat)\n",
    "logloss=log_loss(y_test,y_hat_prob)\n",
    "print('F1_Score is : %f \\nJaccard_Index is : %f\\nLog_Loss is :%f'%(f1,jaccard,logloss))"
   ]
  },
  {
   "cell_type": "markdown",
   "id": "53f1ff6d",
   "metadata": {},
   "source": [
    "# Describe\n",
    "## As we can see, the score of X and Y is almost high and the log loss is almost low, and as a result, our model has a high accuracy"
   ]
  },
  {
   "cell_type": "markdown",
   "id": "ce79c2a3",
   "metadata": {},
   "source": [
    "# \n",
    "# Create Founction of ConfusionMatrix Plot"
   ]
  },
  {
   "cell_type": "code",
   "execution_count": 18,
   "id": "cbac5e4c",
   "metadata": {},
   "outputs": [
    {
     "name": "stdout",
     "output_type": "stream",
     "text": [
      "[[36  4]\n",
      " [ 9 27]]\n"
     ]
    }
   ],
   "source": [
    "from sklearn.metrics import classification_report, confusion_matrix\n",
    "import itertools\n",
    "def plot_confusion_matrix(cm, classes,\n",
    "                          normalize=False,\n",
    "                          title='Confusion matrix',\n",
    "                          cmap=mpl.cm.Blues):\n",
    "    \"\"\"\n",
    "    This function prints and plots the confusion matrix.\n",
    "    Normalization can be applied by setting `normalize=True`.\n",
    "    \"\"\"\n",
    "    if normalize:\n",
    "        cm = cm.astype('float') / cm.sum(axis=1)[:, np.newaxis]\n",
    "        print(\"Normalized confusion matrix\")\n",
    "    else:\n",
    "        print('Confusion matrix, without normalization')\n",
    "\n",
    "    print(cm)\n",
    "\n",
    "    mpl.imshow(cm, interpolation='nearest', cmap=cmap)\n",
    "    mpl.title(title)\n",
    "    mpl.colorbar()\n",
    "    tick_marks = np.arange(len(classes))\n",
    "    mpl.xticks(tick_marks, classes, rotation=45)\n",
    "    mpl.yticks(tick_marks, classes)\n",
    "\n",
    "    fmt = '.2f' if normalize else 'd'\n",
    "    thresh = cm.max() / 2.\n",
    "    for i, j in itertools.product(range(cm.shape[0]), range(cm.shape[1])):\n",
    "        mpl.text(j, i, format(cm[i, j], fmt),\n",
    "                 horizontalalignment=\"center\",\n",
    "                 color=\"white\" if cm[i, j] > thresh else \"black\")\n",
    "\n",
    "    mpl.tight_layout()\n",
    "    mpl.ylabel('True label')\n",
    "    mpl.xlabel('Predicted label')\n",
    "print(confusion_matrix(y_test, y_hat, labels=[1,0]))"
   ]
  },
  {
   "cell_type": "markdown",
   "id": "16f7f7bb",
   "metadata": {},
   "source": [
    "## Create ConfusionMatrix and Call the PlotCM Founction"
   ]
  },
  {
   "cell_type": "code",
   "execution_count": 19,
   "id": "cc89c2fc",
   "metadata": {},
   "outputs": [
    {
     "name": "stdout",
     "output_type": "stream",
     "text": [
      "Confusion matrix, without normalization\n",
      "[[36  4]\n",
      " [ 9 27]]\n"
     ]
    },
    {
     "data": {
      "image/png": "[encoded data removed]",
      "text/plain": [
       "<Figure size 432x288 with 2 Axes>"
      ]
     },
     "metadata": {
      "needs_background": "light"
     },
     "output_type": "display_data"
    }
   ],
   "source": [
    "# Compute confusion matrix\n",
    "cnf_matrix = confusion_matrix(y_test, y_hat, labels=[1,0])\n",
    "np.set_printoptions(precision=2)\n",
    "\n",
    "\n",
    "# Plot non-normalized confusion matrix\n",
    "mpl.figure\n",
    "plot_confusion_matrix(cnf_matrix, classes=['Risk To Heart Attrak=1','healthy Pos=0'],normalize= False,  title='Confusion matrix')"
   ]
  },
  {
   "cell_type": "markdown",
   "id": "f8c7a62b",
   "metadata": {},
   "source": [
    "# Describe\n",
    "## The confusion matrix also confirms the high accuracy of our model, like the meters that were used above\n",
    "<ul>\n",
    "<li>The worst case in this model is that someone is at risk of having a heart attack, but the System recognizes that he is not in danger 'False-Negative'</li>\n",
    "<li>According to the table, it can be seen that only 4 cases of this happened, which is a good statistic compared to the test data we had</li>\n",
    "<li>In another case where the System makes a mistake, nothing bad will happen to the person. In this case, the person is not at risk of infection, but the system detects the risk of infection, and finally the person does a re-check and no harm will come to him, unlike the first case.</li>\n",
    "<li>In the other two cases, which include a large part of the test, the System worked correctly</li>\n",
    "</ul>"
   ]
  },
  {
   "cell_type": "markdown",
   "id": "c9aec4fe",
   "metadata": {},
   "source": [
    "## Thank you for your support\n",
    "## Author : HoomanKaseban\n",
    "<a href='https://www.kaggle.com' target='_blank'>Dataset Source:kaggle</a>\n",
    "### you can contact me through gmail,instagram,linkedin and github\n",
    "#### Gmail:www.hoomankaseban@gmail.com\n",
    "<ul>\n",
    "<li><a href='https://www.instagram.com/hooman_kaseban' target='_blank'>my Instagram</a></li>\n",
    "<li><a href='https://www.linkedin.com/in/hoomankaseban/' target='_blank'>my LinkedIn</a></li>\n",
    "<li><a href='https://github.com/hoomankaseban' target='_blank'>my GitHub</a></li>\n",
    "</ul>"
   ]
  },
  {
   "cell_type": "markdown",
   "id": "f17f2e8b",
   "metadata": {},
   "source": [
    "#### Credit:All credits of this code are for Hooman Kaseban and are free for public use.\n",
    "# The END"
   ]
  }
 ],
 "metadata": {
  "kernelspec": {
   "display_name": "Python 3 (ipykernel)",
   "language": "python",
   "name": "python3"
  },
  "language_info": {
   "codemirror_mode": {
    "name": "ipython",
    "version": 3
   },
   "file_extension": ".py",
   "mimetype": "text/x-python",
   "name": "python",
   "nbconvert_exporter": "python",
   "pygments_lexer": "ipython3",
   "version": "3.9.12"
  }
 },
 "nbformat": 4,
 "nbformat_minor": 5
}
